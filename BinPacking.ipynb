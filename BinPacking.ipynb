{
 "cells": [
  {
   "cell_type": "code",
   "execution_count": null,
   "id": "94e30287",
   "metadata": {},
   "outputs": [
    {
     "name": "stdout",
     "output_type": "stream",
     "text": [
      "hello, world\n"
     ]
    }
   ],
   "source": [
    "msg = \"hello, world\"\n",
    "print(msg)"
   ]
  },
  {
   "cell_type": "code",
   "execution_count": null,
   "id": "86b3ca0c",
   "metadata": {},
   "outputs": [
    {
     "name": "stdout",
     "output_type": "stream",
     "text": [
      "Numero minimo de bins por EXHAUSTIVA:  3\n"
     ]
    }
   ],
   "source": [
    "items = [2, 5, 4, 7, 1, 3, 8]\n",
    "capacity = 10\n",
    "\n",
    "def bin_packing_backtracking(items, bin_capacity):\n",
    "    bins_for_all = [len(items)]  # en el peor e los casos solo me cabe 1 item por cada bin\n",
    "\n",
    "    def backtrack(index, bins):\n",
    "\n",
    "        if index == len(items):\n",
    "           bins_for_all[0] = min(bins_for_all[0], len(bins)) #si ya puse todos mis bins y necesito menos que 1 por elemento, actualizo\n",
    "           return\n",
    "        \n",
    "\n",
    "\n",
    "        for i in range(len(bins)):\n",
    "\n",
    "            if bins[i] + items[index] <= bin_capacity:  # verifico si el nuevo peso total no supera la capacidad de mi bin\n",
    "\n",
    "                bins[i] += items[index]  # si no supera la capacidad lo agrega al bin\n",
    "\n",
    "                backtrack(index + 1, bins) # intento meter el siguiente item y lo quito para probar otra combinacion backtracking\n",
    "\n",
    "                bins[i] -= items[index] \n",
    "\n",
    "\n",
    "\n",
    "        bins.append(items[index]) # sino lo coloco ne ningun bin existente le creo uno nuevo\n",
    "        backtrack(index + 1, bins)\n",
    "        bins.pop()\n",
    "\n",
    "    backtrack(0, []) # empieza en el item 0 sin bins\n",
    "\n",
    "    return bins_for_all[0]\n",
    "\n",
    "\n",
    "print(\"Numero minimo de bins por EXHAUSTIVA: \", bin_packing_backtracking(items, capacity))\n",
    "\n",
    "\n",
    "# agregar una semilla random en 42 para crear 10 veces el mismo escenario con diferentes pesos de items\n",
    "\n"
   ]
  },
  {
   "cell_type": "code",
   "execution_count": null,
   "id": "9603ff1f",
   "metadata": {},
   "outputs": [
    {
     "name": "stdout",
     "output_type": "stream",
     "text": [
      "Número mínimo de bins por DP Top-Down: 3\n"
     ]
    }
   ],
   "source": [
    "items = [2, 5, 4, 7, 1, 3, 8]\n",
    "capacity = 10\n",
    "\n",
    "# comentar codigo\n",
    "\n",
    "from functools import lru_cache\n",
    "\n",
    "def bin_packing_dynamic_topdown(items, bin_capacity):\n",
    "\n",
    "    items = tuple(sorted(items, reverse = True))\n",
    "\n",
    "\n",
    "    @lru_cache(maxsize = None)\n",
    "    def dynamic_programing(index, bins):\n",
    "        if index == len(items):\n",
    "            return len(bins)\n",
    "        \n",
    "        item = items[index]\n",
    "        best = float(\"inf\")\n",
    "\n",
    "        \n",
    "        for i in range(len(bins)):\n",
    "            if bins[i] + item <= bin_capacity:\n",
    "                new_bins = list(bins)\n",
    "                new_bins[i] += item\n",
    "\n",
    "                best = min(best, dynamic_programing(index + 1, tuple(sorted(new_bins))))\n",
    "\n",
    "        \n",
    "        new_bins = list(bins) + [item]\n",
    "        best = min(best, dynamic_programing(index + 1, tuple(sorted(new_bins))))\n",
    "\n",
    "        return best\n",
    "    \n",
    "    return dynamic_programing(0, ())\n",
    "\n",
    "print(\"Número mínimo de bins por DP Top-Down:\", bin_packing_dynamic_topdown(items, capacity))\n"
   ]
  },
  {
   "cell_type": "code",
   "execution_count": null,
   "id": "4c339979",
   "metadata": {},
   "outputs": [
    {
     "name": "stdout",
     "output_type": "stream",
     "text": [
      "Mayor suma alcanzable por dynamic top-down:  10\n"
     ]
    }
   ],
   "source": [
    "items = [2, 5, 4, 7, 1, 3, 8]\n",
    "capacity = 10\n",
    "\n",
    "from functools import lru_cache\n",
    "\n",
    "#version que me devuelva los items que estoy usando para alcanzar la suma?\n",
    "\n",
    "def subset_sum_dynamic_topdown(items, capacity):\n",
    "    span = len(items)\n",
    "\n",
    "    @lru_cache(maxsize=None)\n",
    "    def dynamic_topdown(index, remaining):\n",
    "        if index == span or remaining == 0:\n",
    "            return 0\n",
    "        \n",
    "        skip_current = dynamic_topdown(index + 1, remaining)\n",
    "\n",
    "        use_current = 0\n",
    "        if items[index] <= remaining:\n",
    "            use_current = items[index] + dynamic_topdown(index + 1, remaining - items[index])\n",
    "\n",
    "        return max(use_current, skip_current)\n",
    "    \n",
    "    return dynamic_topdown(0, capacity)\n",
    "\n",
    "print(\"Mayor suma alcanzable por dynamic top-down: \", subset_sum_dynamic_topdown(items, capacity))"
   ]
  }
 ],
 "metadata": {
  "kernelspec": {
   "display_name": "Python 3",
   "language": "python",
   "name": "python3"
  },
  "language_info": {
   "codemirror_mode": {
    "name": "ipython",
    "version": 3
   },
   "file_extension": ".py",
   "mimetype": "text/x-python",
   "name": "python",
   "nbconvert_exporter": "python",
   "pygments_lexer": "ipython3",
   "version": "3.13.5"
  }
 },
 "nbformat": 4,
 "nbformat_minor": 5
}
